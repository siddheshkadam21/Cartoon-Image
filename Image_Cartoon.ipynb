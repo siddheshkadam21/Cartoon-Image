{
 "cells": [
  {
   "cell_type": "markdown",
   "metadata": {},
   "source": [
    "# Steps:-\n",
    "    1.Apply a bilateral filter to reduce the color palette of the image.\n",
    "    2.Convert original color image into grayscale image.\n",
    "    3.Apply median blur to reduce image noise in the resultant grayscale image.\n",
    "    4.Create an edge mask from the grayscale image using adaptive thresholding.\n",
    "    5.Combine the color image from step 1 eith edge mask from step 4."
   ]
  },
  {
   "cell_type": "markdown",
   "metadata": {},
   "source": [
    "## Setting the parameter ,reading the image and resizing it"
   ]
  },
  {
   "cell_type": "markdown",
   "metadata": {},
   "source": [
    "## Importing Libraries"
   ]
  },
  {
   "cell_type": "code",
   "execution_count": 21,
   "metadata": {},
   "outputs": [],
   "source": [
    "import cv2 \n",
    "import numpy as np"
   ]
  },
  {
   "cell_type": "code",
   "execution_count": 22,
   "metadata": {},
   "outputs": [],
   "source": [
    "num_down=2    # number of downsmapling steps\n",
    "num_bilateral=7  # number bilateral filtering steps "
   ]
  },
  {
   "cell_type": "code",
   "execution_count": 23,
   "metadata": {},
   "outputs": [
    {
     "name": "stdout",
     "output_type": "stream",
     "text": [
      "(3216, 2366, 3)\n"
     ]
    }
   ],
   "source": [
    "img_rgb=cv2.imread(\"DSC_6021_edited.jpg\")\n",
    "#pic.png , DSC_6021_edited.jpg\n",
    "img_rgb = np.array(img_rgb, dtype=np.uint8)\n",
    "print(img_rgb.shape)# print the dimension of the image"
   ]
  },
  {
   "cell_type": "code",
   "execution_count": 24,
   "metadata": {},
   "outputs": [],
   "source": [
    "# resizing so as to get the optimal result after un sampling is done\n",
    "img_rgb=cv2.resize(img_rgb,(800,800))"
   ]
  },
  {
   "cell_type": "markdown",
   "metadata": {},
   "source": [
    "## Downsample the image ,apply the bilateral filter ,mentioned the amount time "
   ]
  },
  {
   "cell_type": "code",
   "execution_count": 25,
   "metadata": {},
   "outputs": [],
   "source": [
    "# Downsample image using gaussian pyramid\n",
    "img_color=img_rgb\n",
    "for i in range(num_bilateral):\n",
    "    img_color=cv2.pyrDown(img_color)"
   ]
  },
  {
   "cell_type": "code",
   "execution_count": 26,
   "metadata": {},
   "outputs": [],
   "source": [
    "# repetedly applying small bilateral filter instead of applyuing one large filter\n",
    "for i in range(num_bilateral):\n",
    "    img_color=cv2.bilateralFilter(img_color,d=9,sigmaColor=9,sigmaSpace=7)"
   ]
  },
  {
   "cell_type": "markdown",
   "metadata": {},
   "source": [
    "## unsample, convert the image to grayscale, apply median blur and then thresholding"
   ]
  },
  {
   "cell_type": "code",
   "execution_count": 27,
   "metadata": {},
   "outputs": [],
   "source": [
    "# unsample the image to original size\n",
    "for i in range (num_down):\n",
    "    img_color=cv2.pyrUp(img_color)"
   ]
  },
  {
   "cell_type": "code",
   "execution_count": 28,
   "metadata": {},
   "outputs": [],
   "source": [
    "img_gray=cv2.cvtColor(img_rgb,cv2.COLOR_RGB2GRAY)\n",
    "img_blur=cv2.medianBlur(img_gray,7)"
   ]
  },
  {
   "cell_type": "code",
   "execution_count": 29,
   "metadata": {},
   "outputs": [],
   "source": [
    "img_edge=cv2.adaptiveThreshold(img_blur,255,cv2.ADAPTIVE_THRESH_MEAN_C,cv2.THRESH_BINARY,blockSize=9,C=2)"
   ]
  },
  {
   "cell_type": "markdown",
   "metadata": {},
   "source": [
    "## Bitwise AND ,and then dispaly the resultant image"
   ]
  },
  {
   "cell_type": "code",
   "execution_count": 30,
   "metadata": {},
   "outputs": [],
   "source": [
    "#convert black to color ,bit-AND with color image\n",
    "img_edge=cv2.cvtColor(img_edge,cv2.COLOR_GRAY2RGB)\n"
   ]
  },
  {
   "cell_type": "code",
   "execution_count": 31,
   "metadata": {},
   "outputs": [
    {
     "name": "stdout",
     "output_type": "stream",
     "text": [
      "uint8\n",
      "(28, 28, 3)\n"
     ]
    }
   ],
   "source": [
    "#checking data type and shape\n",
    "print(img_color.dtype)\n",
    "print(img_color.shape)"
   ]
  },
  {
   "cell_type": "code",
   "execution_count": 32,
   "metadata": {},
   "outputs": [
    {
     "name": "stdout",
     "output_type": "stream",
     "text": [
      "uint8\n",
      "(800, 800, 3)\n"
     ]
    }
   ],
   "source": [
    "#checking data type and shape\n",
    "print(img_edge.dtype)\n",
    "print(img_edge.shape)"
   ]
  },
  {
   "cell_type": "code",
   "execution_count": 33,
   "metadata": {},
   "outputs": [
    {
     "name": "stdout",
     "output_type": "stream",
     "text": [
      "(800, 800, 3)\n"
     ]
    }
   ],
   "source": [
    "#making same size of both images\n",
    "img_color=cv2.resize(img_color,(800,800))\n",
    "print(img_color.shape)\n",
    "\n",
    "\n",
    "#img_edge=cv2.resize(img_edge,(400,400))\n",
    "#print(img_edge.shape)"
   ]
  },
  {
   "cell_type": "code",
   "execution_count": 34,
   "metadata": {},
   "outputs": [
    {
     "name": "stdout",
     "output_type": "stream",
     "text": [
      "(800, 800, 3)\n"
     ]
    }
   ],
   "source": [
    "img_cartoon=cv2.bitwise_and(img_color, img_edge)\n",
    "print(img_cartoon.shape)"
   ]
  },
  {
   "cell_type": "code",
   "execution_count": 35,
   "metadata": {},
   "outputs": [
    {
     "name": "stdout",
     "output_type": "stream",
     "text": [
      "(400, 400, 3)\n",
      "(400, 400, 3)\n",
      "(400, 400, 3)\n",
      "(400, 400)\n"
     ]
    }
   ],
   "source": [
    "#making same size of both images\n",
    "img_rgb=cv2.resize(img_rgb,(400,400))\n",
    "print(img_rgb.shape)\n",
    "\n",
    "img_edge=cv2.resize(img_edge,(400,400))\n",
    "print(img_edge.shape)\n",
    "\n",
    "img_cartoon=cv2.resize(img_cartoon,(400,400))\n",
    "print(img_cartoon.shape)\n",
    "\n",
    "img_gray=cv2.resize(img_gray,(400,400))\n",
    "print(img_gray.shape)"
   ]
  },
  {
   "cell_type": "code",
   "execution_count": 36,
   "metadata": {},
   "outputs": [],
   "source": [
    "#display\n",
    "#cv2.imshow(\"Cartoon\",img_cartoon)\n",
    "#cv2.imshow(\"adv\",img_edge)\n",
    "#cv2.waitKey(0)"
   ]
  },
  {
   "cell_type": "markdown",
   "metadata": {},
   "source": [
    "## Real and Cartoon image"
   ]
  },
  {
   "cell_type": "code",
   "execution_count": 37,
   "metadata": {},
   "outputs": [],
   "source": [
    "#stack=np.hstack([img_rgb,img_cartoon])\n",
    "#cv2.imshow(\"Stacked Image\",stack)\n",
    "#cv2.waitKey(0)"
   ]
  },
  {
   "cell_type": "markdown",
   "metadata": {},
   "source": [
    "## Real and sketch image"
   ]
  },
  {
   "cell_type": "code",
   "execution_count": 38,
   "metadata": {},
   "outputs": [],
   "source": [
    "#stack=np.hstack([img_rgb,img_edge])\n",
    "#cv2.imshow(\"Stacked Image\",stack)\n",
    "#cv2.waitKey(0)"
   ]
  },
  {
   "cell_type": "markdown",
   "metadata": {},
   "source": [
    "## Sketch and Cartoon image"
   ]
  },
  {
   "cell_type": "code",
   "execution_count": 39,
   "metadata": {},
   "outputs": [
    {
     "data": {
      "text/plain": [
       "-1"
      ]
     },
     "execution_count": 39,
     "metadata": {},
     "output_type": "execute_result"
    }
   ],
   "source": [
    "stack=np.hstack([img_edge,img_cartoon])\n",
    "cv2.imshow(\"Stacked Image\",stack)\n",
    "cv2.waitKey(0)"
   ]
  },
  {
   "cell_type": "markdown",
   "metadata": {},
   "source": [
    "## Gray scale image"
   ]
  },
  {
   "cell_type": "code",
   "execution_count": 40,
   "metadata": {},
   "outputs": [],
   "source": [
    "#cv2.imshow(\"gray\",img_gray)\n",
    "#cv2.waitKey(0)"
   ]
  },
  {
   "cell_type": "code",
   "execution_count": null,
   "metadata": {},
   "outputs": [],
   "source": []
  }
 ],
 "metadata": {
  "kernelspec": {
   "display_name": "Python 3",
   "language": "python",
   "name": "python3"
  },
  "language_info": {
   "codemirror_mode": {
    "name": "ipython",
    "version": 3
   },
   "file_extension": ".py",
   "mimetype": "text/x-python",
   "name": "python",
   "nbconvert_exporter": "python",
   "pygments_lexer": "ipython3",
   "version": "3.8.3"
  }
 },
 "nbformat": 4,
 "nbformat_minor": 4
}
